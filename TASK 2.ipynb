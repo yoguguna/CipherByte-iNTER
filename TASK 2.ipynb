{
 "cells": [
  {
   "cell_type": "markdown",
   "id": "509a3224",
   "metadata": {},
   "source": [
    "# CIPHERBYTE- INTERN TASK - 02"
   ]
  },
  {
   "cell_type": "markdown",
   "id": "49f1246f",
   "metadata": {},
   "source": [
    "## ROCK PAPER SCISSOR GAME"
   ]
  },
  {
   "cell_type": "code",
   "execution_count": 1,
   "id": "54acaed3",
   "metadata": {},
   "outputs": [
    {
     "name": "stdout",
     "output_type": "stream",
     "text": [
      "\n",
      "--- Rock, Paper, Scissors Game ---\n",
      "Score: You 0 - Computer 0 - Ties 0\n",
      "Enter your choice (rock, paper, scissors) or 'exit' to quit: paper\n",
      "Computer chose: rock\n",
      "You win!\n",
      "\n",
      "--- Rock, Paper, Scissors Game ---\n",
      "Score: You 1 - Computer 0 - Ties 0\n",
      "Enter your choice (rock, paper, scissors) or 'exit' to quit: scissors\n",
      "Computer chose: paper\n",
      "You win!\n",
      "\n",
      "--- Rock, Paper, Scissors Game ---\n",
      "Score: You 2 - Computer 0 - Ties 0\n",
      "Enter your choice (rock, paper, scissors) or 'exit' to quit: rock\n",
      "Computer chose: rock\n",
      "It's a tie!\n",
      "\n",
      "--- Rock, Paper, Scissors Game ---\n",
      "Score: You 2 - Computer 0 - Ties 1\n",
      "Enter your choice (rock, paper, scissors) or 'exit' to quit: exit\n",
      "Thanks for playing! Final Score:\n",
      "You 2 - Computer 0 - Ties 1\n"
     ]
    }
   ],
   "source": [
    "import random\n",
    "\n",
    "# Function to determine the winner\n",
    "def determine_winner(player, computer):\n",
    "    if player == computer:\n",
    "        return \"It's a tie!\"\n",
    "    \n",
    "    if (player == 'rock' and computer == 'scissors') or        (player == 'scissors' and computer == 'paper') or        (player == 'paper' and computer == 'rock'):\n",
    "        return \"You win!\"\n",
    "    else:\n",
    "        return \"Computer wins!\"\n",
    "\n",
    "# Main game function\n",
    "def play_game():\n",
    "    options = ['rock', 'paper', 'scissors']\n",
    "    player_score = 0\n",
    "    computer_score = 0\n",
    "    ties = 0\n",
    "    \n",
    "    while True:\n",
    "        print(\"\\n--- Rock, Paper, Scissors Game ---\")\n",
    "        print(f\"Score: You {player_score} - Computer {computer_score} - Ties {ties}\")\n",
    "        \n",
    "        player_choice = input(\"Enter your choice (rock, paper, scissors) or 'exit' to quit: \").lower()\n",
    "        \n",
    "        if player_choice == 'exit':\n",
    "            print(\"Thanks for playing! Final Score:\")\n",
    "            print(f\"You {player_score} - Computer {computer_score} - Ties {ties}\")\n",
    "            break\n",
    "        \n",
    "        if player_choice not in options:\n",
    "            print(\"Invalid choice. Please choose 'rock', 'paper', or 'scissors'.\")\n",
    "            continue\n",
    "        \n",
    "        # Computer randomly selects an option\n",
    "        computer_choice = random.choice(options)\n",
    "        print(f\"Computer chose: {computer_choice}\")\n",
    "        \n",
    "        # Determine and print the result\n",
    "        result = determine_winner(player_choice, computer_choice)\n",
    "        print(result)\n",
    "        \n",
    "        # Update scores based on the result\n",
    "        if result == \"You win!\":\n",
    "            player_score += 1\n",
    "        elif result == \"Computer wins!\":\n",
    "            computer_score += 1\n",
    "        else:\n",
    "            ties += 1\n",
    "\n",
    "# Run the game\n",
    "if __name__ == \"__main__\":\n",
    "    play_game()\n"
   ]
  },
  {
   "cell_type": "code",
   "execution_count": null,
   "id": "435a3130",
   "metadata": {},
   "outputs": [],
   "source": []
  }
 ],
 "metadata": {
  "kernelspec": {
   "display_name": "Python 3 (ipykernel)",
   "language": "python",
   "name": "python3"
  },
  "language_info": {
   "codemirror_mode": {
    "name": "ipython",
    "version": 3
   },
   "file_extension": ".py",
   "mimetype": "text/x-python",
   "name": "python",
   "nbconvert_exporter": "python",
   "pygments_lexer": "ipython3",
   "version": "3.10.9"
  }
 },
 "nbformat": 4,
 "nbformat_minor": 5
}
