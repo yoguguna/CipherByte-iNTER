{
 "cells": [
  {
   "cell_type": "markdown",
   "id": "ba763469",
   "metadata": {},
   "source": [
    "# CIPHERBYTE- INTERN TASK - 03"
   ]
  },
  {
   "cell_type": "markdown",
   "id": "8ce1b573",
   "metadata": {},
   "source": [
    "## CREATING PAYMENT RECEIPT"
   ]
  },
  {
   "cell_type": "code",
   "execution_count": 3,
   "id": "43dc7444",
   "metadata": {},
   "outputs": [
    {
     "name": "stdout",
     "output_type": "stream",
     "text": [
      "Requirement already satisfied: reportlab in c:\\users\\yoges\\anaconda3\\lib\\site-packages (4.2.2)\n",
      "Requirement already satisfied: pillow>=9.0.0 in c:\\users\\yoges\\anaconda3\\lib\\site-packages (from reportlab) (9.4.0)\n",
      "Requirement already satisfied: chardet in c:\\users\\yoges\\anaconda3\\lib\\site-packages (from reportlab) (3.0.4)\n"
     ]
    }
   ],
   "source": [
    "!pip install reportlab"
   ]
  },
  {
   "cell_type": "code",
   "execution_count": 9,
   "id": "7c436214",
   "metadata": {},
   "outputs": [
    {
     "name": "stdout",
     "output_type": "stream",
     "text": [
      "Collecting pdfplumber\n",
      "  Downloading pdfplumber-0.11.4-py3-none-any.whl (59 kB)\n",
      "     -------------------------------------- 59.2/59.2 kB 789.4 kB/s eta 0:00:00\n",
      "Collecting pdfminer.six==20231228\n",
      "  Downloading pdfminer.six-20231228-py3-none-any.whl (5.6 MB)\n",
      "     ---------------------------------------- 5.6/5.6 MB 11.2 MB/s eta 0:00:00\n",
      "Collecting pypdfium2>=4.18.0\n",
      "  Downloading pypdfium2-4.30.0-py3-none-win_amd64.whl (2.9 MB)\n",
      "     ---------------------------------------- 2.9/2.9 MB 9.7 MB/s eta 0:00:00\n",
      "Requirement already satisfied: Pillow>=9.1 in c:\\users\\yoges\\anaconda3\\lib\\site-packages (from pdfplumber) (9.4.0)\n",
      "Requirement already satisfied: cryptography>=36.0.0 in c:\\users\\yoges\\anaconda3\\lib\\site-packages (from pdfminer.six==20231228->pdfplumber) (39.0.1)\n",
      "Requirement already satisfied: charset-normalizer>=2.0.0 in c:\\users\\yoges\\anaconda3\\lib\\site-packages (from pdfminer.six==20231228->pdfplumber) (2.0.4)\n",
      "Requirement already satisfied: cffi>=1.12 in c:\\users\\yoges\\anaconda3\\lib\\site-packages (from cryptography>=36.0.0->pdfminer.six==20231228->pdfplumber) (1.15.1)\n",
      "Requirement already satisfied: pycparser in c:\\users\\yoges\\anaconda3\\lib\\site-packages (from cffi>=1.12->cryptography>=36.0.0->pdfminer.six==20231228->pdfplumber) (2.21)\n",
      "Installing collected packages: pypdfium2, pdfminer.six, pdfplumber\n",
      "Successfully installed pdfminer.six-20231228 pdfplumber-0.11.4 pypdfium2-4.30.0\n",
      "Note: you may need to restart the kernel to use updated packages.\n"
     ]
    }
   ],
   "source": [
    "pip install pdfplumber"
   ]
  },
  {
   "cell_type": "code",
   "execution_count": 10,
   "id": "f64eec39",
   "metadata": {},
   "outputs": [
    {
     "name": "stdout",
     "output_type": "stream",
     "text": [
      "Receipt saved as receipt_12345.pdf\n"
     ]
    }
   ],
   "source": [
    "from reportlab.pdfgen import canvas\n",
    "from datetime import datetime\n",
    "\n",
    "def create_receipt(transaction_id, customer_name, total_amount):\n",
    "    # Create a new PDF file\n",
    "    pdf_file = f'receipt_{transaction_id}.pdf'\n",
    "    c = canvas.Canvas(pdf_file)\n",
    "\n",
    "    # Add receipt header\n",
    "    c.setFont(\"Helvetica-Bold\", 16)\n",
    "    c.drawString(200, 800, \"Payment Receipt\")\n",
    "\n",
    "    # Add transaction details\n",
    "    c.setFont(\"Helvetica\", 12)\n",
    "    c.drawString(50, 770, f\"Transaction ID: {transaction_id}\")\n",
    "    c.drawString(50, 750, f\"Customer Name: {customer_name}\")\n",
    "    c.drawString(50, 730, f\"Date: {datetime.now().strftime('%Y-%m-%d')}\")\n",
    "\n",
    "    # Add total amount\n",
    "    c.drawString(50, 700, f\"Total Amount: ${total_amount:.2f}\")\n",
    "\n",
    "    # Add a thank you note\n",
    "    c.drawString(50, 670, \"Thank you for your purchase!\")\n",
    "\n",
    "    # Save the PDF\n",
    "    c.save()\n",
    "\n",
    "    print(f\"Receipt saved as {pdf_file}\")\n",
    "\n",
    "# Example usage\n",
    "create_receipt(12345, \"John Doe\", 89.99)"
   ]
  },
  {
   "cell_type": "code",
   "execution_count": 11,
   "id": "aa732d6f",
   "metadata": {},
   "outputs": [],
   "source": [
    "import pandas as pd"
   ]
  },
  {
   "cell_type": "code",
   "execution_count": 12,
   "id": "cb57ae5d",
   "metadata": {},
   "outputs": [
    {
     "name": "stdout",
     "output_type": "stream",
     "text": [
      "             0           1       2     3          4\n",
      "0      Payment     Receipt    None  None       None\n",
      "1  Transaction         ID:   12345  None       None\n",
      "2     Customer       Name:    John   Doe       None\n",
      "3        Date:  2024-09-19    None  None       None\n",
      "4        Total     Amount:  $89.99  None       None\n",
      "5        Thank         you     for  your  purchase!\n"
     ]
    }
   ],
   "source": [
    "import pdfplumber\n",
    "import pandas as pd\n",
    "\n",
    "# Open the PDF file\n",
    "with pdfplumber.open(\"receipt_12345.pdf\") as pdf:\n",
    "    # Extract text from the first page (adjust if necessary)\n",
    "    page = pdf.pages[0]\n",
    "    text = page.extract_text()\n",
    "    # Process the text as needed to convert it into a DataFrame\n",
    "    # For example, you could split lines and create a DataFrame from them\n",
    "    data = [line.split() for line in text.split('\\n') if line]\n",
    "    DF = pd.DataFrame(data)\n",
    "\n",
    "print(DF)\n"
   ]
  },
  {
   "cell_type": "code",
   "execution_count": null,
   "id": "e2e82c1e",
   "metadata": {},
   "outputs": [],
   "source": []
  }
 ],
 "metadata": {
  "kernelspec": {
   "display_name": "Python 3 (ipykernel)",
   "language": "python",
   "name": "python3"
  },
  "language_info": {
   "codemirror_mode": {
    "name": "ipython",
    "version": 3
   },
   "file_extension": ".py",
   "mimetype": "text/x-python",
   "name": "python",
   "nbconvert_exporter": "python",
   "pygments_lexer": "ipython3",
   "version": "3.10.9"
  }
 },
 "nbformat": 4,
 "nbformat_minor": 5
}
